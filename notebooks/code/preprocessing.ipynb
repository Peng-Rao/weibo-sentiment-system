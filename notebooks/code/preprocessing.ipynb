{
 "cells": [
  {
   "cell_type": "code",
   "execution_count": 19,
   "id": "initial_id",
   "metadata": {
    "collapsed": true,
    "ExecuteTime": {
     "end_time": "2024-03-20T06:54:44.136314Z",
     "start_time": "2024-03-20T06:54:44.128566Z"
    }
   },
   "outputs": [],
   "source": [
    "import re\n",
    "import os\n",
    "import jieba\n",
    "from pathlib import Path\n",
    "import pandas as pd\n",
    "from sklearn.model_selection import train_test_split\n",
    "from utils import load_corpus, stopwords"
   ]
  },
  {
   "cell_type": "code",
   "outputs": [],
   "source": [
    "# 划分训练组和测试组\n",
    "# df = pd.read_csv(\"../data/weibo_senti_100k.csv\", encoding=\"utf8\")\n",
    "# train_df, test_df = train_test_split(df, test_size=0.2, random_state=42)\n",
    "# train_df.to_csv(\"../data/weibo_senti_100k/train.csv\", index=False, encoding=\"utf8\")\n",
    "# test_df.to_csv(\"../data/weibo_senti_100k/test.csv\", index=False, encoding=\"utf8\")"
   ],
   "metadata": {
    "collapsed": false,
    "ExecuteTime": {
     "end_time": "2024-03-20T06:54:47.573394Z",
     "start_time": "2024-03-20T06:54:47.131637Z"
    }
   },
   "id": "535038601067ddb2",
   "execution_count": 20
  },
  {
   "cell_type": "code",
   "outputs": [
    {
     "name": "stderr",
     "output_type": "stream",
     "text": [
      "Building prefix dict from the default dictionary ...\n",
      "Loading model from cache /var/folders/4d/xybtwjyj2d3dv4p2_6s1yccw0000gn/T/jieba.cache\n"
     ]
    },
    {
     "name": "stdout",
     "output_type": "stream",
     "text": [
      "<_csv.reader object at 0x30177bca0>\n"
     ]
    },
    {
     "name": "stderr",
     "output_type": "stream",
     "text": [
      "Loading model cost 0.423 seconds.\n",
      "Prefix dict has been built successfully.\n"
     ]
    },
    {
     "name": "stdout",
     "output_type": "stream",
     "text": [
      "<_csv.reader object at 0x30177bca0>\n"
     ]
    }
   ],
   "source": [
    "TRAIN_PATH = \"../data/weibo_senti_100k/train.csv\"\n",
    "TEST_PATH = \"../data/weibo_senti_100k/test.csv\"\n",
    "train_data = load_corpus(TRAIN_PATH)\n",
    "test_data = load_corpus(TEST_PATH)"
   ],
   "metadata": {
    "collapsed": false,
    "ExecuteTime": {
     "end_time": "2024-03-20T06:55:17.451142Z",
     "start_time": "2024-03-20T06:55:08.974918Z"
    }
   },
   "id": "9f3e4f49f1837a3e",
   "execution_count": 22
  },
  {
   "cell_type": "code",
   "outputs": [
    {
     "data": {
      "text/plain": "                                              review  label\n0  乐乐 的 武汉 之 武汉 步行街 哈哈 我 窃以为 只 比 南京 的 夫子庙 好 了 那么 ...      1\n1           然后 去 医院 医生 给 火柴 包 起 一圈 绷带 出来 就 成 棉签 了 哈哈      1\n2                                 午饭 来不及 吃 先 垫下 肚子 泪      0\n3  汗 想想 办法 吧 狗 X 的 贵 G 福利 真 好 看 了 公司 照片 真是 本尊 啊 太强 了      0\n4                   昨天 被 人 恶作剧 了 表白 什么 的 不是 真的 晕 晕 晕      0",
      "text/html": "<div>\n<style scoped>\n    .dataframe tbody tr th:only-of-type {\n        vertical-align: middle;\n    }\n\n    .dataframe tbody tr th {\n        vertical-align: top;\n    }\n\n    .dataframe thead th {\n        text-align: right;\n    }\n</style>\n<table border=\"1\" class=\"dataframe\">\n  <thead>\n    <tr style=\"text-align: right;\">\n      <th></th>\n      <th>review</th>\n      <th>label</th>\n    </tr>\n  </thead>\n  <tbody>\n    <tr>\n      <th>0</th>\n      <td>乐乐 的 武汉 之 武汉 步行街 哈哈 我 窃以为 只 比 南京 的 夫子庙 好 了 那么 ...</td>\n      <td>1</td>\n    </tr>\n    <tr>\n      <th>1</th>\n      <td>然后 去 医院 医生 给 火柴 包 起 一圈 绷带 出来 就 成 棉签 了 哈哈</td>\n      <td>1</td>\n    </tr>\n    <tr>\n      <th>2</th>\n      <td>午饭 来不及 吃 先 垫下 肚子 泪</td>\n      <td>0</td>\n    </tr>\n    <tr>\n      <th>3</th>\n      <td>汗 想想 办法 吧 狗 X 的 贵 G 福利 真 好 看 了 公司 照片 真是 本尊 啊 太强 了</td>\n      <td>0</td>\n    </tr>\n    <tr>\n      <th>4</th>\n      <td>昨天 被 人 恶作剧 了 表白 什么 的 不是 真的 晕 晕 晕</td>\n      <td>0</td>\n    </tr>\n  </tbody>\n</table>\n</div>"
     },
     "execution_count": 23,
     "metadata": {},
     "output_type": "execute_result"
    }
   ],
   "source": [
    "df_train = pd.DataFrame(train_data, columns=[\"review\", \"label\"])\n",
    "df_test = pd.DataFrame(test_data, columns=[\"review\", \"label\"])\n",
    "df_train.head()"
   ],
   "metadata": {
    "collapsed": false,
    "ExecuteTime": {
     "end_time": "2024-03-20T06:55:18.276480Z",
     "start_time": "2024-03-20T06:55:18.240589Z"
    }
   },
   "id": "c6badc406b0de45",
   "execution_count": 23
  },
  {
   "cell_type": "code",
   "outputs": [
    {
     "data": {
      "text/plain": "<95990x105960 sparse matrix of type '<class 'numpy.int64'>'\n\twith 918244 stored elements in Compressed Sparse Row format>"
     },
     "execution_count": 24,
     "metadata": {},
     "output_type": "execute_result"
    }
   ],
   "source": [
    "from sklearn.feature_extraction.text import CountVectorizer\n",
    "\n",
    "vectorizer = CountVectorizer(token_pattern=r'\\[?\\w+\\]?', stop_words=stopwords)\n",
    "\n",
    "X_train = vectorizer.fit_transform(df_train[\"review\"])"
   ],
   "metadata": {
    "collapsed": false,
    "ExecuteTime": {
     "end_time": "2024-03-20T06:56:42.604981Z",
     "start_time": "2024-03-20T06:56:41.694592Z"
    }
   },
   "id": "6d30255e523fb057",
   "execution_count": 24
  },
  {
   "cell_type": "code",
   "outputs": [],
   "source": [],
   "metadata": {
    "collapsed": false
   },
   "id": "36b85d4de5d1fffc"
  }
 ],
 "metadata": {
  "kernelspec": {
   "display_name": "Python 3",
   "language": "python",
   "name": "python3"
  },
  "language_info": {
   "codemirror_mode": {
    "name": "ipython",
    "version": 2
   },
   "file_extension": ".py",
   "mimetype": "text/x-python",
   "name": "python",
   "nbconvert_exporter": "python",
   "pygments_lexer": "ipython2",
   "version": "2.7.6"
  }
 },
 "nbformat": 4,
 "nbformat_minor": 5
}
